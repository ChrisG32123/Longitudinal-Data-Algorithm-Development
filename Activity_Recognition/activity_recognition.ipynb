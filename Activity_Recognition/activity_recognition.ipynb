{
 "cells": [
  {
   "cell_type": "code",
   "execution_count": 23,
   "metadata": {},
   "outputs": [
    {
     "name": "stdout",
     "output_type": "stream",
     "text": [
      "['01' '02' '03' '04' '05' '06' '07' '08' '09' '10' '11' '12' '13' '14'\n",
      " '15' '16' '17' '18' '19' '20' '21' '22' '23' '24' '25' '26' '27' '28'\n",
      " '29' '30' '31' '32' '33' '34' '35' '36' '37' '38' '39' '40' '41' '42'\n",
      " '43' '44' '45' '46' '47' '48' '49' '50' '51' '52' '53' '54' '55' '56'\n",
      " '57' '58' '59']\n"
     ]
    }
   ],
   "source": [
    "import pandas as pd\n",
    "import numpy as np\n",
    "import matplotlib.pyplot as plt\n",
    "import os\n",
    "\n",
    "os.listdir(/Users/chrisgerlach/Programming/MIDILab/LongitudinalAlgorithmDevelopment/Activity_Recognition)\n",
    "\n",
    "root_dir = '/Users/chrisgerlach/Programming/MIDILab/LongitudinalAlgorithmDevelopment/Activity_Recognition/S1_Dataset'\n",
    "s1 = '/d1p'\n",
    "s2 = '/d2p'\n",
    "\n",
    "s1_patients = np.arange(1, 60)\n",
    "s1_patients = np.array(s1_patients, dtype=np.str_)\n",
    "for i, string in enumerate(s1_patients):\n",
    "    if len(string) < 2:\n",
    "        s1_patients[i] = '0' + string\n",
    "\n",
    "\n",
    "\n",
    "print(s1_patients)\n",
    "\n",
    "\n",
    "# s1df = pd.read_csv('/Users/chrisgerlach/Programming/MIDILab/LongitudinalAlgorithmDevelopment/Activity_Recognition/S1_Dataset/d1p03M')\n",
    "# s2df = pd.read_csv('Activity_Recognition/S2_Dataset')\n",
    "\n",
    "# print(s1df)"
   ]
  },
  {
   "cell_type": "code",
   "execution_count": null,
   "metadata": {},
   "outputs": [],
   "source": []
  }
 ],
 "metadata": {
  "kernelspec": {
   "display_name": "LongDataAlgDev",
   "language": "python",
   "name": "python3"
  },
  "language_info": {
   "codemirror_mode": {
    "name": "ipython",
    "version": 3
   },
   "file_extension": ".py",
   "mimetype": "text/x-python",
   "name": "python",
   "nbconvert_exporter": "python",
   "pygments_lexer": "ipython3",
   "version": "3.12.3"
  }
 },
 "nbformat": 4,
 "nbformat_minor": 2
}
